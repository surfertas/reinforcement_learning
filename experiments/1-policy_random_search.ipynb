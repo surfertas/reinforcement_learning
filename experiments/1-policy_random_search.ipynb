{
 "cells": [
  {
   "cell_type": "code",
   "execution_count": 1,
   "metadata": {
    "collapsed": true
   },
   "outputs": [],
   "source": [
    "import numpy as np\n",
    "import gym"
   ]
  },
  {
   "cell_type": "code",
   "execution_count": 2,
   "metadata": {
    "collapsed": false
   },
   "outputs": [],
   "source": [
    "np.random.seed(53)"
   ]
  },
  {
   "cell_type": "markdown",
   "metadata": {},
   "source": [
    "The CartPole environment provided by OpenAi GYM offers a nice environment to test different hypothesis quickly. The action space is discrete and 2 dimensional, allowing actions of either -1 or 1 while the state space is 4 dimensional. The objective is to balance the pole on top of the cart.\n",
    "\n",
    "Q: How effective is random search of policy space in uncovering an \"optimal\" policy and is there more than one policy that succeeds in satisfying the objective?"
   ]
  },
  {
   "cell_type": "code",
   "execution_count": 3,
   "metadata": {
    "collapsed": true
   },
   "outputs": [],
   "source": [
    "def generate_policies():\n",
    "    return (np.random.uniform(-1,1, size=4), np.random.uniform(-1,1))\n",
    "\n",
    "def get_actions(pi, o):\n",
    "    W, b = pi\n",
    "    return 1 if (np.dot(W, o) + b) > 0 else 0\n",
    "\n",
    "def run(env, pi, steps_ub=1000, render=False):\n",
    "    o = env.reset()\n",
    "    total_r = 0\n",
    "    for i in range(steps_ub):\n",
    "        if render:\n",
    "            env.render()\n",
    "        a = get_actions(pi, o)\n",
    "        o, r, done, _ = env.step(a)\n",
    "        total_r += r\n",
    "        if done:\n",
    "            break\n",
    "    return total_r\n"
   ]
  },
  {
   "cell_type": "code",
   "execution_count": 4,
   "metadata": {
    "collapsed": false
   },
   "outputs": [
    {
     "name": "stderr",
     "output_type": "stream",
     "text": [
      "INFO:gym.envs.registration:Making new env: CartPole-v0\n",
      "[2017-11-09 00:05:00,387] Making new env: CartPole-v0\n"
     ]
    }
   ],
   "source": [
    "env = gym.make('CartPole-v0')\n",
    "\n",
    "best_scores = []\n",
    "best_weights = []\n",
    "for n in range(1,300,20):\n",
    "    policy_samples = [generate_policies() for _ in range(n)]\n",
    "    scores = [run(env, pi) for pi in policy_samples]\n",
    "    best_pi = policy_samples[np.argmax(scores)]\n",
    "    best_scores.append(np.max(scores))\n",
    "    best_weights.append(best_pi)\n"
   ]
  },
  {
   "cell_type": "markdown",
   "metadata": {},
   "source": [
    "We can see random search quickly is able score highly just based on even 100 samples."
   ]
  },
  {
   "cell_type": "code",
   "execution_count": 5,
   "metadata": {
    "collapsed": false
   },
   "outputs": [
    {
     "data": {
      "text/plain": [
       "[10.0,\n",
       " 34.0,\n",
       " 131.0,\n",
       " 63.0,\n",
       " 200.0,\n",
       " 113.0,\n",
       " 200.0,\n",
       " 167.0,\n",
       " 200.0,\n",
       " 200.0,\n",
       " 133.0,\n",
       " 200.0,\n",
       " 200.0,\n",
       " 200.0,\n",
       " 200.0]"
      ]
     },
     "execution_count": 5,
     "metadata": {},
     "output_type": "execute_result"
    }
   ],
   "source": [
    "best_scores"
   ]
  },
  {
   "cell_type": "code",
   "execution_count": 6,
   "metadata": {
    "collapsed": false
   },
   "outputs": [],
   "source": [
    "m = None\n",
    "for i, weights in enumerate(best_weights):\n",
    "    if i == 0:\n",
    "        m = np.concatenate((weights[0],np.array([weights[1]])),axis=0)\n",
    "    else:\n",
    "        out = np.concatenate((weights[0],np.array([weights[1]])),axis=0)\n",
    "        m = np.vstack((m,out))"
   ]
  },
  {
   "cell_type": "code",
   "execution_count": 7,
   "metadata": {
    "collapsed": false
   },
   "outputs": [
    {
     "data": {
      "text/plain": [
       "[<matplotlib.lines.Line2D at 0x7f24d640f790>]"
      ]
     },
     "execution_count": 7,
     "metadata": {},
     "output_type": "execute_result"
    },
    {
     "data": {
      "image/png": "[encoded data removed]",
      "text/plain": [
       "<matplotlib.figure.Figure at 0x7f24dd8fb690>"
      ]
     },
     "metadata": {},
     "output_type": "display_data"
    }
   ],
   "source": [
    "import matplotlib.pyplot as plt\n",
    "%matplotlib inline\n",
    "\n",
    "normalized = (m-np.min(m))/(np.max(m)-np.min(m))\n",
    "normalized\n",
    "plt.figure(1)\n",
    "plt.subplot(221)\n",
    "plt.imshow(normalized.T, cmap=\"gray\")\n",
    "plt.subplot(212)\n",
    "plt.plot(best_scores)"
   ]
  },
  {
   "cell_type": "markdown",
   "metadata": {},
   "source": [
    "Zooming in on the last 5 trials where we started to see consistent results of +200 in total rewards, we can clearly see that the parameters are different. Different parameter values are leading to \"best\" results, and can visually validate that the \"best\" policies are local optima at best."
   ]
  },
  {
   "cell_type": "code",
   "execution_count": 8,
   "metadata": {
    "collapsed": false
   },
   "outputs": [
    {
     "data": {
      "text/plain": [
       "<matplotlib.image.AxesImage at 0x7f24d62a7290>"
      ]
     },
     "execution_count": 8,
     "metadata": {},
     "output_type": "execute_result"
    },
    {
     "data": {
      "image/png": "[encoded data removed]",
      "text/plain": [
       "<matplotlib.figure.Figure at 0x7f24dda4f590>"
      ]
     },
     "metadata": {},
     "output_type": "display_data"
    }
   ],
   "source": [
    "# The vertical axis represents the 4 parameters found in W and the last represents b\n",
    "# The horizontal axis is the last sets of trials representing n samples of 201, 221, 241, 261, 281 sample policies.\n",
    "plt.imshow(normalized[10:].T, cmap=\"gray\")"
   ]
  },
  {
   "cell_type": "code",
   "execution_count": null,
   "metadata": {
    "collapsed": false
   },
   "outputs": [],
   "source": []
  },
  {
   "cell_type": "code",
   "execution_count": null,
   "metadata": {
    "collapsed": true
   },
   "outputs": [],
   "source": []
  }
 ],
 "metadata": {
  "kernelspec": {
   "display_name": "Python 2",
   "language": "python",
   "name": "python2"
  },
  "language_info": {
   "codemirror_mode": {
    "name": "ipython",
    "version": 2
   },
   "file_extension": ".py",
   "mimetype": "text/x-python",
   "name": "python",
   "nbconvert_exporter": "python",
   "pygments_lexer": "ipython2",
   "version": "2.7.12"
  }
 },
 "nbformat": 4,
 "nbformat_minor": 0
}
