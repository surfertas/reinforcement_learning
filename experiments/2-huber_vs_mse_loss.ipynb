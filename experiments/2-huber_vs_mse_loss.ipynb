{
 "cells": [
  {
   "cell_type": "code",
   "execution_count": 1,
   "metadata": {
    "collapsed": true
   },
   "outputs": [],
   "source": [
    "import numpy as np\n",
    "import pandas as pd\n",
    "import matplotlib.pyplot as plt\n",
    "%matplotlib inline"
   ]
  },
  {
   "cell_type": "code",
   "execution_count": 2,
   "metadata": {
    "collapsed": true
   },
   "outputs": [],
   "source": [
    "# https://en.wikipedia.org/wiki/Robust_regression\n",
    "# https://en.wikipedia.org/wiki/Huber_loss"
   ]
  },
  {
   "cell_type": "markdown",
   "metadata": {},
   "source": [
    "Q: Why do many DQN implementations use huber loss?\n",
    "\n",
    "The Huber loss function is a function robust to outliers, and used when there is the presence of heteroskedasticity, i.e variance of residuals has a dependence on the underlying independent variables.\n",
    "#\\usepackage{amsmath}\n",
    "    $$L_{\\delta}(a) =\n",
    "        \\begin{cases}\n",
    "        \\frac{1}{2}a^2 & for |a| \\leq \\delta\\\\\n",
    "        \\delta(|a| - \\frac{1}{2}\\delta) & otherwise\n",
    "        \\end{cases}\n",
    "      $$"
   ]
  },
  {
   "cell_type": "code",
   "execution_count": 3,
   "metadata": {
    "collapsed": false
   },
   "outputs": [],
   "source": [
    "xs = np.linspace(-4.,4.,num=1000)"
   ]
  },
  {
   "cell_type": "code",
   "execution_count": 4,
   "metadata": {
    "collapsed": false
   },
   "outputs": [
    {
     "data": {
      "text/plain": [
       "<matplotlib.axes._subplots.AxesSubplot at 0x7f713875f190>"
      ]
     },
     "execution_count": 4,
     "metadata": {},
     "output_type": "execute_result"
    },
    {
     "data": {
      "image/png": "[encoded data removed]",
      "text/plain": [
       "<matplotlib.figure.Figure at 0x7f713886dc50>"
      ]
     },
     "metadata": {},
     "output_type": "display_data"
    }
   ],
   "source": [
    "def huber(row, **kwargs):\n",
    "    a = row['y'] - row['yt']\n",
    "    d = kwargs['delta']\n",
    "    return 0.5 * a**2 if np.abs(a) <= d else d *(np.abs(a)- 0.5*d)\n",
    "    \n",
    "\n",
    "# Create arbitrary function f(x) = 2x. (Wiki article uses f(x) = x)\n",
    "f = lambda x: 2*x\n",
    "\n",
    "df = pd.DataFrame(xs)\n",
    "df['yt'] = df.apply(f, axis=1)\n",
    "# Set label y to 0\n",
    "df['y'] = np.zeros(len(xs))\n",
    "df.rename(columns={0:'xs'}, inplace=True)\n",
    "df['err^2'] = (df['yt'] - df['y'])**2\n",
    "df['huber'] = df.apply(huber, delta=4.0, axis=1)\n",
    "\n",
    "compare = df[['err^2','huber']]\n",
    "compare.index = xs\n",
    "compare.plot()\n",
    "\n",
    "# We can visually confirm that for relatively larger errors will have a smaller weighted contribution for all errors."
   ]
  },
  {
   "cell_type": "markdown",
   "metadata": {},
   "source": [
    "In DQN or any algorithm that requires exploration of a n-dimensional space based on some random policy is prone to introducing \"outliers\" to the estimation of an expected value, in the DQN case its the state action value function, $Q(s,a)$. "
   ]
  },
  {
   "cell_type": "code",
   "execution_count": null,
   "metadata": {
    "collapsed": true
   },
   "outputs": [],
   "source": []
  }
 ],
 "metadata": {
  "kernelspec": {
   "display_name": "Python 2",
   "language": "python",
   "name": "python2"
  },
  "language_info": {
   "codemirror_mode": {
    "name": "ipython",
    "version": 2
   },
   "file_extension": ".py",
   "mimetype": "text/x-python",
   "name": "python",
   "nbconvert_exporter": "python",
   "pygments_lexer": "ipython2",
   "version": "2.7.12"
  }
 },
 "nbformat": 4,
 "nbformat_minor": 0
}
